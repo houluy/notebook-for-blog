{
 "cells": [
  {
   "cell_type": "code",
   "execution_count": 3,
   "metadata": {},
   "outputs": [],
   "source": [
    "import elasticsearch\n",
    "\n",
    "host = 'localhost'\n",
    "es = elasticsearch.Elasticsearch(host=host, port=9200)\n"
   ]
  },
  {
   "cell_type": "markdown",
   "metadata": {},
   "source": [
    "## Index Operations:"
   ]
  },
  {
   "cell_type": "code",
   "execution_count": 11,
   "metadata": {},
   "outputs": [],
   "source": [
    "indices = elasticsearch.client.IndicesClient(es)\n",
    "\n",
    "#Create an index\n",
    "index_name = 'school'\n",
    "try:\n",
    "    res = indices.create(index=index_name)\n",
    "except Exception as e:\n",
    "    print(e)\n",
    "    \n",
    "#Delete an index\n",
    "index_name = 'school'\n",
    "#try...except... is omitted\n",
    "#res = indices.delete(index=index_name)\n",
    "\n",
    "doc_type = 'teacher' #Type of doc"
   ]
  },
  {
   "cell_type": "markdown",
   "metadata": {},
   "source": [
    "## Basic CRUD operations:"
   ]
  },
  {
   "cell_type": "code",
   "execution_count": 16,
   "metadata": {},
   "outputs": [],
   "source": [
    "#Get all documents\n",
    "from pprint import pprint\n",
    "def get_all():\n",
    "    body = {\n",
    "        'query': {\n",
    "            'match_all': {},\n",
    "        },\n",
    "        'size': 1000,\n",
    "    }\n",
    "    \n",
    "    res = es.search(index=index_name, doc_type=doc_type, body=body)\n",
    "    pprint(res.get('hits').get('hits'))\n",
    "\n",
    "def delete_all():\n",
    "    body = {\n",
    "        'query': {\n",
    "            'match_all': {},\n",
    "        },\n",
    "    }\n",
    "    res = es.delete_by_query(index=index_name, doc_type=doc_type, body=body)"
   ]
  },
  {
   "cell_type": "code",
   "execution_count": 28,
   "metadata": {
    "scrolled": true
   },
   "outputs": [],
   "source": [
    "delete_all()"
   ]
  },
  {
   "cell_type": "code",
   "execution_count": 39,
   "metadata": {
    "scrolled": false
   },
   "outputs": [],
   "source": [
    "#Create a document\n",
    "obj_body = {\n",
    "    'name': '吴芳',\n",
    "    'age': 28,\n",
    "    'introduction': '这位是吴芳教师，职称：助教，年龄：28',\n",
    "    't_id': '5530eac6a8075110c87a67bf6caa8142',\n",
    "    'title': '助教',\n",
    "}\n",
    "\n",
    "res = es.create(index=index_name, doc_type=doc_type, id=2, body=obj_body)\n",
    "\n",
    "#Create from JSON file\n",
    "file_name = 'data/data.json' #A list of dicts\n",
    "with open(file_name, 'r', encoding='utf8') as f:\n",
    "    import json\n",
    "    data = json.load(f)\n",
    "    \n",
    "for ind, val in enumerate(data):\n",
    "    try:\n",
    "        pass\n",
    "        #es.create(index=index_name, doc_type=doc_type, id=ind, body=val)\n",
    "    except Exception as e:\n",
    "        print(e)\n",
    "        print('Create No. {} doc ERROR!'.format(ind))\n"
   ]
  },
  {
   "cell_type": "code",
   "execution_count": 30,
   "metadata": {
    "scrolled": true
   },
   "outputs": [
    {
     "name": "stdout",
     "output_type": "stream",
     "text": [
      "[{'_id': '0',\n",
      "  '_index': 'school',\n",
      "  '_score': 1.0,\n",
      "  '_source': {'age': 43,\n",
      "              'introduction': '这位是赵重阳教师，职称：讲师，年龄：43',\n",
      "              'name': '赵重阳',\n",
      "              't_id': 'f8ff7ac54cdf738ce70c0d3aa1dc2392',\n",
      "              'title': '讲师'},\n",
      "  '_type': 'teacher'},\n",
      " {'_id': '5',\n",
      "  '_index': 'school',\n",
      "  '_score': 1.0,\n",
      "  '_source': {'age': 28,\n",
      "              'introduction': '这位是吴芳教师，职称：助教，年龄：28',\n",
      "              'name': '吴芳',\n",
      "              't_id': '5530eac6a8075110c87a67bf6caa8142',\n",
      "              'title': '助教'},\n",
      "  '_type': 'teacher'},\n",
      " {'_id': '8',\n",
      "  '_index': 'school',\n",
      "  '_score': 1.0,\n",
      "  '_source': {'age': 30,\n",
      "              'introduction': '这位是吴芳教师，职称：讲师，年龄：30',\n",
      "              'name': '吴芳',\n",
      "              't_id': '5c4b2c1523331e1a1a997788d146804f',\n",
      "              'title': '讲师'},\n",
      "  '_type': 'teacher'},\n",
      " {'_id': '9',\n",
      "  '_index': 'school',\n",
      "  '_score': 1.0,\n",
      "  '_source': {'age': 36,\n",
      "              'introduction': '这位是赵刚教师，职称：讲师，年龄：36',\n",
      "              'name': '赵刚',\n",
      "              't_id': 'c3ca66d01f29f2f3d956c28998434fc0',\n",
      "              'title': '讲师'},\n",
      "  '_type': 'teacher'},\n",
      " {'_id': '2',\n",
      "  '_index': 'school',\n",
      "  '_score': 1.0,\n",
      "  '_source': {'age': 31,\n",
      "              'introduction': '这位是周建国教师，职称：讲师，年龄：31',\n",
      "              'name': '周建国',\n",
      "              't_id': '23aef2369d73a89244c47b9cba1ea8b0',\n",
      "              'title': '讲师'},\n",
      "  '_type': 'teacher'},\n",
      " {'_id': '4',\n",
      "  '_index': 'school',\n",
      "  '_score': 1.0,\n",
      "  '_source': {'age': 26,\n",
      "              'introduction': '这位是李刚教师，职称：讲师，年龄：26',\n",
      "              'name': '李刚',\n",
      "              't_id': 'b114accc9388b6e25fe471748666deb7',\n",
      "              'title': '讲师'},\n",
      "  '_type': 'teacher'},\n",
      " {'_id': '6',\n",
      "  '_index': 'school',\n",
      "  '_score': 1.0,\n",
      "  '_source': {'age': 37,\n",
      "              'introduction': '这位是王芳教师，职称：教授，年龄：37',\n",
      "              'name': '王芳',\n",
      "              't_id': '5f7fee7f54507a726adf511bce88f3ec',\n",
      "              'title': '教授'},\n",
      "  '_type': 'teacher'},\n",
      " {'_id': '1',\n",
      "  '_index': 'school',\n",
      "  '_score': 1.0,\n",
      "  '_source': {'age': 33,\n",
      "              'introduction': '这位是王芳教师，职称：讲师，年龄：33',\n",
      "              'name': '王芳',\n",
      "              't_id': '92ebfe7b627a193e3f4b83c8a8ee3491',\n",
      "              'title': '讲师'},\n",
      "  '_type': 'teacher'},\n",
      " {'_id': '7',\n",
      "  '_index': 'school',\n",
      "  '_score': 1.0,\n",
      "  '_source': {'age': 33,\n",
      "              'introduction': '这位是孙明教师，职称：副教授，年龄：33',\n",
      "              'name': '孙明',\n",
      "              't_id': 'ab498223f620c36c521db6614ffb0f0f',\n",
      "              'title': '副教授'},\n",
      "  '_type': 'teacher'},\n",
      " {'_id': '3',\n",
      "  '_index': 'school',\n",
      "  '_score': 1.0,\n",
      "  '_source': {'age': 33,\n",
      "              'introduction': '这位是钱建国教师，职称：讲师，年龄：33',\n",
      "              'name': '钱建国',\n",
      "              't_id': '4a68ebf86044425ccb184401165b809e',\n",
      "              'title': '讲师'},\n",
      "  '_type': 'teacher'}]\n"
     ]
    }
   ],
   "source": [
    "get_all()"
   ]
  },
  {
   "cell_type": "code",
   "execution_count": 32,
   "metadata": {},
   "outputs": [
    {
     "name": "stdout",
     "output_type": "stream",
     "text": [
      "{'_id': '3',\n",
      " '_index': 'school',\n",
      " '_source': {'age': 33,\n",
      "             'introduction': '这位是钱建国教师，职称：讲师，年龄：33',\n",
      "             'name': '钱建国',\n",
      "             't_id': '4a68ebf86044425ccb184401165b809e',\n",
      "             'title': '讲师'},\n",
      " '_type': 'teacher',\n",
      " '_version': 5,\n",
      " 'found': True}\n"
     ]
    }
   ],
   "source": [
    "#Get a document\n",
    "#Get by id\n",
    "doc_id = 3\n",
    "res = es.get(index=index_name, doc_type=doc_type, id=doc_id)\n",
    "pprint(res)"
   ]
  },
  {
   "cell_type": "code",
   "execution_count": 40,
   "metadata": {},
   "outputs": [
    {
     "name": "stderr",
     "output_type": "stream",
     "text": [
      "GET http://10.3.242.236:9200/school/teacher/2 [status:404 request:0.003s]\n",
      "GET http://10.3.242.236:9200/school/teacher/7 [status:404 request:0.002s]\n"
     ]
    },
    {
     "name": "stdout",
     "output_type": "stream",
     "text": [
      "TransportError(404, '{\"_index\":\"school\",\"_type\":\"teacher\",\"_id\":\"2\",\"found\":false}')\n",
      "TransportError(404, '{\"_index\":\"school\",\"_type\":\"teacher\",\"_id\":\"7\",\"found\":false}')\n"
     ]
    }
   ],
   "source": [
    "#Delete a document\n",
    "#Delete by id\n",
    "doc_id = 2\n",
    "es.delete(index=index_name, doc_type=doc_type, id=doc_id)\n",
    "\n",
    "try:\n",
    "    res = es.get(index=index_name, doc_type=doc_type, id=doc_id)\n",
    "except Exception as e:\n",
    "    print(e)\n",
    "    \n",
    "#Delete by query\n",
    "#query will be specified in the following chapters\n",
    "query_body = {\n",
    "    'query': {\n",
    "        'match': {\n",
    "            'name': '孙明',\n",
    "        }\n",
    "    }\n",
    "}\n",
    "es.delete_by_query(index=index_name, doc_type=doc_type, body=query_body)\n",
    "\n",
    "try:\n",
    "    res = es.get(index=index_name, doc_type=doc_type, id=7)\n",
    "except Exception as e:\n",
    "    print(e)"
   ]
  },
  {
   "cell_type": "code",
   "execution_count": 41,
   "metadata": {},
   "outputs": [
    {
     "name": "stdout",
     "output_type": "stream",
     "text": [
      "before update\n",
      "{'_id': '1',\n",
      " '_index': 'school',\n",
      " '_source': {'age': 33,\n",
      "             'introduction': '这位是王芳教师，职称：讲师，年龄：33',\n",
      "             'name': '王芳',\n",
      "             't_id': '92ebfe7b627a193e3f4b83c8a8ee3491',\n",
      "             'title': '讲师'},\n",
      " '_type': 'teacher',\n",
      " '_version': 5,\n",
      " 'found': True}\n",
      "after update\n",
      "{'_id': '1',\n",
      " '_index': 'school',\n",
      " '_source': {'age': 53,\n",
      "             'introduction': '这位是王芳教师，职称：讲师，年龄：33',\n",
      "             'name': '王芳',\n",
      "             't_id': '92ebfe7b627a193e3f4b83c8a8ee3491',\n",
      "             'title': '讲师'},\n",
      " '_type': 'teacher',\n",
      " '_version': 6,\n",
      " 'found': True}\n"
     ]
    }
   ],
   "source": [
    "#Update a document\n",
    "#Update by id\n",
    "doc_id = 1\n",
    "update_body = {\n",
    "    'doc': {\n",
    "        'age': 53,\n",
    "    },\n",
    "}\n",
    "res = es.get(index=index_name, doc_type=doc_type, id=doc_id)\n",
    "print('before update:')\n",
    "pprint(res)\n",
    "es.update(index=index_name, doc_type=doc_type, id=doc_id, body=update_body)\n",
    "res = es.get(index=index_name, doc_type=doc_type, id=doc_id)\n",
    "print('after update:')\n",
    "pprint(res)"
   ]
  },
  {
   "cell_type": "code",
   "execution_count": 49,
   "metadata": {},
   "outputs": [],
   "source": [
    "#Update by query (Omitted)\n"
   ]
  },
  {
   "cell_type": "markdown",
   "metadata": {},
   "source": [
    "Data generator can be refered [here](#ref1)"
   ]
  },
  {
   "cell_type": "markdown",
   "metadata": {},
   "source": [
    "<a id='ref1'></a>\n",
    "## Reference 1: Generate data"
   ]
  },
  {
   "cell_type": "code",
   "execution_count": null,
   "metadata": {
    "collapsed": true
   },
   "outputs": [],
   "source": [
    "import json\n",
    "import random\n",
    "import hashlib\n",
    "from pprint import pprint\n",
    "\n",
    "prof_title_list = ['助教', '讲师', '副教授', '教授']\n",
    "\n",
    "family_name_list = ['赵', '钱', '孙', '李', '周', '吴', '郑', '王']\n",
    "first_name_list = ['明', '建国', '重阳', '芳', '刚', '玉']\n",
    "\n",
    "age_list = list(range(24, 44))\n",
    "\n",
    "NUM = 10\n",
    "\n",
    "teacher_list = []\n",
    "md5 = hashlib.md5()\n",
    "\n",
    "for i in range(NUM):\n",
    "    t_name = random.choice(family_name_list) + random.choice(first_name_list)\n",
    "    t_title = random.choice(prof_title_list)\n",
    "    t_age = random.choice(age_list)\n",
    "    t_intro = \"这位是{}教师，职称：{}，年龄：{}\".format(t_name, t_title, t_age)\n",
    "    md5.update(''.join([t_name, t_title, str(t_age)]).encode())\n",
    "    t_id = md5.hexdigest()\n",
    "    teacher = {\n",
    "        't_id': t_id,\n",
    "        'title': t_title,\n",
    "        'name': t_name,\n",
    "        'age': t_age,\n",
    "        'introduction': t_intro,\n",
    "    }\n",
    "    teacher_list.append(teacher)\n",
    "\n",
    "file_name = 'data.json'\n",
    "with open(file_name, 'w', encoding='utf8') as f:\n",
    "    json.dump(teacher_list, f, ensure_ascii=False, indent=2)\n"
   ]
  }
 ],
 "metadata": {
  "kernelspec": {
   "display_name": "Python 3",
   "language": "python",
   "name": "python3"
  },
  "language_info": {
   "codemirror_mode": {
    "name": "ipython",
    "version": 3
   },
   "file_extension": ".py",
   "mimetype": "text/x-python",
   "name": "python",
   "nbconvert_exporter": "python",
   "pygments_lexer": "ipython3",
   "version": "3.6.1"
  }
 },
 "nbformat": 4,
 "nbformat_minor": 2
}
